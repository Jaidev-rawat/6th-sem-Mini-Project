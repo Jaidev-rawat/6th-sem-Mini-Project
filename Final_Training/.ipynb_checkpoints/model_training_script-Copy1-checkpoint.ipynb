{
 "cells": [
  {
   "cell_type": "markdown",
   "metadata": {},
   "source": [
    "### Mobile Net CNN layers (with one dense)(functional way with a 23 last layer trainable off)\n",
    "### Image Size 224*224\n",
    "### Model Size 19.7 mb (final_mobileNet.h5)\n",
    "### Accuracy 88%\n",
    "### RMSprop(lr=1e-5)\n",
    "#### ['BathRoom','BedRoom','DiningRoom','Kitchen','LaundryRoom','LivingRoom','Outdoor']"
   ]
  },
  {
   "cell_type": "markdown",
   "metadata": {},
   "source": [
    "### To install juypter notebook\n",
    "https://towardsdatascience.com/installing-jupyter-notebook-for-different-environments-in-windows-10-97eae0157343\n",
    "in anaconda prompt with python\n",
    "conda activate test\n",
    "conda create -n test python=3.7\n",
    "\n",
    "conda env list\n",
    "\n",
    "conda activate test\n",
    "\n",
    "conda install pip\n",
    "\n",
    "\n",
    "pip3 install jupyter"
   ]
  },
  {
   "cell_type": "markdown",
   "metadata": {},
   "source": [
    "### Libraries Needed"
   ]
  },
  {
   "cell_type": "code",
   "execution_count": 13,
   "metadata": {},
   "outputs": [],
   "source": [
    "#requirements =['pillow','split-folders','pandas','matplotlib','scikit-learn','opencv-python','tensorflow']\n"
   ]
  },
  {
   "cell_type": "code",
   "execution_count": 17,
   "metadata": {},
   "outputs": [
    {
     "name": "stdout",
     "output_type": "stream",
     "text": [
      "Collecting pillow\n",
      "  Using cached Pillow-9.0.1-cp37-cp37m-win_amd64.whl (3.2 MB)\n",
      "Requirement already satisfied: split-folders in c:\\users\\hp\\anaconda3\\envs\\testenv\\lib\\site-packages (0.5.0)\n",
      "Collecting pandas\n",
      "  Using cached pandas-1.3.5-cp37-cp37m-win_amd64.whl (10.0 MB)\n",
      "Collecting matplotlib\n",
      "  Using cached matplotlib-3.5.1-cp37-cp37m-win_amd64.whl (7.2 MB)\n",
      "Collecting scikit-learn\n",
      "  Using cached scikit_learn-1.0.2-cp37-cp37m-win_amd64.whl (7.1 MB)\n",
      "Collecting opencv-python\n",
      "  Using cached opencv_python-4.5.5.62-cp36-abi3-win_amd64.whl (35.4 MB)\n",
      "Collecting tensorflow\n",
      "  Using cached tensorflow-2.8.0-cp37-cp37m-win_amd64.whl (437.9 MB)\n",
      "Collecting pytz>=2017.3\n",
      "  Using cached pytz-2021.3-py2.py3-none-any.whl (503 kB)\n",
      "Requirement already satisfied: python-dateutil>=2.7.3 in c:\\users\\hp\\anaconda3\\envs\\testenv\\lib\\site-packages (from pandas) (2.8.2)\n",
      "Collecting numpy>=1.17.3\n",
      "  Using cached numpy-1.21.5-cp37-cp37m-win_amd64.whl (14.0 MB)\n",
      "Collecting fonttools>=4.22.0\n",
      "  Using cached fonttools-4.29.1-py3-none-any.whl (895 kB)\n",
      "Collecting cycler>=0.10\n",
      "  Using cached cycler-0.11.0-py3-none-any.whl (6.4 kB)\n",
      "Requirement already satisfied: pyparsing>=2.2.1 in c:\\users\\hp\\anaconda3\\envs\\testenv\\lib\\site-packages (from matplotlib) (3.0.7)\n",
      "Collecting kiwisolver>=1.0.1\n",
      "  Using cached kiwisolver-1.3.2-cp37-cp37m-win_amd64.whl (51 kB)\n",
      "Requirement already satisfied: packaging>=20.0 in c:\\users\\hp\\anaconda3\\envs\\testenv\\lib\\site-packages (from matplotlib) (21.3)\n",
      "Collecting joblib>=0.11\n",
      "  Using cached joblib-1.1.0-py2.py3-none-any.whl (306 kB)\n",
      "Collecting threadpoolctl>=2.0.0\n",
      "  Using cached threadpoolctl-3.1.0-py3-none-any.whl (14 kB)\n",
      "Collecting scipy>=1.1.0\n",
      "  Using cached scipy-1.7.3-cp37-cp37m-win_amd64.whl (34.1 MB)\n",
      "Collecting h5py>=2.9.0\n",
      "  Using cached h5py-3.6.0-cp37-cp37m-win_amd64.whl (2.8 MB)\n",
      "Collecting opt-einsum>=2.3.2\n",
      "  Using cached opt_einsum-3.3.0-py3-none-any.whl (65 kB)\n",
      "Collecting protobuf>=3.9.2\n",
      "  Using cached protobuf-3.19.4-cp37-cp37m-win_amd64.whl (896 kB)\n",
      "Collecting google-pasta>=0.1.1\n",
      "  Using cached google_pasta-0.2.0-py3-none-any.whl (57 kB)\n",
      "Collecting keras<2.9,>=2.8.0rc0\n",
      "  Using cached keras-2.8.0-py2.py3-none-any.whl (1.4 MB)\n",
      "Collecting wrapt>=1.11.0\n",
      "  Using cached wrapt-1.13.3-cp37-cp37m-win_amd64.whl (34 kB)\n",
      "Collecting tensorflow-io-gcs-filesystem>=0.23.1\n",
      "  Using cached tensorflow_io_gcs_filesystem-0.23.1-cp37-cp37m-win_amd64.whl (1.5 MB)\n",
      "Requirement already satisfied: six>=1.12.0 in c:\\users\\hp\\anaconda3\\envs\\testenv\\lib\\site-packages (from tensorflow) (1.16.0)\n",
      "Collecting libclang>=9.0.1\n",
      "  Using cached libclang-13.0.0-py2.py3-none-win_amd64.whl (13.9 MB)\n",
      "Collecting astunparse>=1.6.0\n",
      "  Using cached astunparse-1.6.3-py2.py3-none-any.whl (12 kB)\n",
      "Collecting absl-py>=0.4.0\n",
      "  Using cached absl_py-1.0.0-py3-none-any.whl (126 kB)\n",
      "Collecting tf-estimator-nightly==2.8.0.dev2021122109\n",
      "  Using cached tf_estimator_nightly-2.8.0.dev2021122109-py2.py3-none-any.whl (462 kB)\n",
      "Requirement already satisfied: typing-extensions>=3.6.6 in c:\\users\\hp\\anaconda3\\envs\\testenv\\lib\\site-packages (from tensorflow) (4.0.1)\n",
      "Collecting gast>=0.2.1\n",
      "  Using cached gast-0.5.3-py3-none-any.whl (19 kB)\n",
      "Requirement already satisfied: setuptools in c:\\users\\hp\\anaconda3\\envs\\testenv\\lib\\site-packages (from tensorflow) (58.0.4)\n",
      "Collecting termcolor>=1.1.0\n",
      "  Using cached termcolor-1.1.0-py3-none-any.whl\n",
      "Collecting grpcio<2.0,>=1.24.3\n",
      "  Using cached grpcio-1.43.0-cp37-cp37m-win_amd64.whl (3.3 MB)\n",
      "Collecting flatbuffers>=1.12\n",
      "  Using cached flatbuffers-2.0-py2.py3-none-any.whl (26 kB)\n",
      "Collecting keras-preprocessing>=1.1.1\n",
      "  Using cached Keras_Preprocessing-1.1.2-py2.py3-none-any.whl (42 kB)\n",
      "Collecting tensorboard<2.9,>=2.8\n",
      "  Using cached tensorboard-2.8.0-py3-none-any.whl (5.8 MB)\n",
      "Requirement already satisfied: wheel<1.0,>=0.23.0 in c:\\users\\hp\\anaconda3\\envs\\testenv\\lib\\site-packages (from astunparse>=1.6.0->tensorflow) (0.37.1)\n",
      "Collecting cached-property\n",
      "  Using cached cached_property-1.5.2-py2.py3-none-any.whl (7.6 kB)\n",
      "Collecting werkzeug>=0.11.15\n",
      "  Using cached Werkzeug-2.0.2-py3-none-any.whl (288 kB)\n",
      "Collecting requests<3,>=2.21.0\n",
      "  Using cached requests-2.27.1-py2.py3-none-any.whl (63 kB)\n",
      "Collecting google-auth<3,>=1.6.3\n",
      "  Using cached google_auth-2.6.0-py2.py3-none-any.whl (156 kB)\n",
      "Collecting markdown>=2.6.8\n",
      "  Using cached Markdown-3.3.6-py3-none-any.whl (97 kB)\n",
      "Collecting google-auth-oauthlib<0.5,>=0.4.1\n",
      "  Using cached google_auth_oauthlib-0.4.6-py2.py3-none-any.whl (18 kB)\n",
      "Collecting tensorboard-data-server<0.7.0,>=0.6.0\n",
      "  Using cached tensorboard_data_server-0.6.1-py3-none-any.whl (2.4 kB)\n",
      "Collecting tensorboard-plugin-wit>=1.6.0\n",
      "  Using cached tensorboard_plugin_wit-1.8.1-py3-none-any.whl (781 kB)\n",
      "Collecting pyasn1-modules>=0.2.1\n",
      "  Using cached pyasn1_modules-0.2.8-py2.py3-none-any.whl (155 kB)\n",
      "Collecting cachetools<6.0,>=2.0.0\n",
      "  Using cached cachetools-5.0.0-py3-none-any.whl (9.1 kB)\n",
      "Collecting rsa<5,>=3.1.4\n",
      "  Using cached rsa-4.8-py3-none-any.whl (39 kB)\n",
      "Collecting requests-oauthlib>=0.7.0\n",
      "  Using cached requests_oauthlib-1.3.1-py2.py3-none-any.whl (23 kB)\n",
      "Requirement already satisfied: importlib-metadata>=4.4 in c:\\users\\hp\\anaconda3\\envs\\testenv\\lib\\site-packages (from markdown>=2.6.8->tensorboard<2.9,>=2.8->tensorflow) (4.10.1)\n",
      "Requirement already satisfied: zipp>=0.5 in c:\\users\\hp\\anaconda3\\envs\\testenv\\lib\\site-packages (from importlib-metadata>=4.4->markdown>=2.6.8->tensorboard<2.9,>=2.8->tensorflow) (3.7.0)\n",
      "Collecting pyasn1<0.5.0,>=0.4.6\n",
      "  Using cached pyasn1-0.4.8-py2.py3-none-any.whl (77 kB)\n",
      "Collecting charset-normalizer~=2.0.0\n",
      "  Using cached charset_normalizer-2.0.11-py3-none-any.whl (39 kB)\n",
      "Requirement already satisfied: certifi>=2017.4.17 in c:\\users\\hp\\anaconda3\\envs\\testenv\\lib\\site-packages (from requests<3,>=2.21.0->tensorboard<2.9,>=2.8->tensorflow) (2021.10.8)\n",
      "Collecting urllib3<1.27,>=1.21.1\n",
      "  Using cached urllib3-1.26.8-py2.py3-none-any.whl (138 kB)\n",
      "Collecting idna<4,>=2.5\n",
      "  Using cached idna-3.3-py3-none-any.whl (61 kB)\n",
      "Collecting oauthlib>=3.0.0\n",
      "  Using cached oauthlib-3.2.0-py3-none-any.whl (151 kB)\n",
      "Installing collected packages: urllib3, pyasn1, idna, charset-normalizer, rsa, requests, pyasn1-modules, oauthlib, cachetools, requests-oauthlib, google-auth, werkzeug, tensorboard-plugin-wit, tensorboard-data-server, protobuf, numpy, markdown, grpcio, google-auth-oauthlib, cached-property, absl-py, wrapt, threadpoolctl, tf-estimator-nightly, termcolor, tensorflow-io-gcs-filesystem, tensorboard, scipy, pytz, pillow, opt-einsum, libclang, kiwisolver, keras-preprocessing, keras, joblib, h5py, google-pasta, gast, fonttools, flatbuffers, cycler, astunparse, tensorflow, scikit-learn, pandas, opencv-python, matplotlib\n",
      "Successfully installed absl-py-1.0.0 astunparse-1.6.3 cached-property-1.5.2 cachetools-5.0.0 charset-normalizer-2.0.11 cycler-0.11.0 flatbuffers-2.0 fonttools-4.29.1 gast-0.5.3 google-auth-2.6.0 google-auth-oauthlib-0.4.6 google-pasta-0.2.0 grpcio-1.43.0 h5py-3.6.0 idna-3.3 joblib-1.1.0 keras-2.8.0 keras-preprocessing-1.1.2 kiwisolver-1.3.2 libclang-13.0.0 markdown-3.3.6 matplotlib-3.5.1 numpy-1.21.5 oauthlib-3.2.0 opencv-python-4.5.5.62 opt-einsum-3.3.0 pandas-1.3.5 pillow-9.0.1 protobuf-3.19.4 pyasn1-0.4.8 pyasn1-modules-0.2.8 pytz-2021.3 requests-2.27.1 requests-oauthlib-1.3.1 rsa-4.8 scikit-learn-1.0.2 scipy-1.7.3 tensorboard-2.8.0 tensorboard-data-server-0.6.1 tensorboard-plugin-wit-1.8.1 tensorflow-2.8.0 tensorflow-io-gcs-filesystem-0.23.1 termcolor-1.1.0 tf-estimator-nightly-2.8.0.dev2021122109 threadpoolctl-3.1.0 urllib3-1.26.8 werkzeug-2.0.2 wrapt-1.13.3\n"
     ]
    },
    {
     "name": "stderr",
     "output_type": "stream",
     "text": [
      "ERROR: pip's dependency resolver does not currently take into account all the packages that are installed. This behaviour is the source of the following dependency conflicts.\n",
      "tf-nightly 2.8.0.dev20211203 requires keras-nightly~=2.8.0.dev, which is not installed.\n",
      "tf-nightly 2.8.0.dev20211203 requires tb-nightly~=2.8.0.a, which is not installed.\n",
      "tf-nightly 2.8.0.dev20211203 requires gast<0.5.0,>=0.2.1, but you have gast 0.5.3 which is incompatible.\n"
     ]
    }
   ],
   "source": [
    "!pip3 install pillow split-folders pandas matplotlib scikit-learn opencv-python tensorflow"
   ]
  },
  {
   "cell_type": "code",
   "execution_count": 18,
   "metadata": {
    "colab": {
     "base_uri": "https://localhost:8080/"
    },
    "id": "yBcMgQc6_Uz9",
    "outputId": "0e112cb0-0c40-4364-8cc8-225581a20d48"
   },
   "outputs": [
    {
     "name": "stdout",
     "output_type": "stream",
     "text": [
      "** Path: newData\\rawData\\Outdoor\\1 (999).jpg  ***69_4.jpg  ****\r"
     ]
    }
   ],
   "source": [
    "#checking for corroupted files \n",
    "'''\n",
    "import os\n",
    "from PIL import Image\n",
    "folder_path = r'newData\\rawData'\n",
    "extensions = ['jpg', 'png', 'bmp', 'gif']\n",
    "for fldr in os.listdir(folder_path):\n",
    "    sub_folder_path = os.path.join(folder_path, fldr)\n",
    "    for filee in os.listdir(sub_folder_path):\n",
    "        file_path = os.path.join(sub_folder_path, filee)\n",
    "        print('** Path: {}  **'.format(file_path), end=\"\\r\", flush=True)\n",
    "        im = Image.open(file_path)\n",
    "        rgb_im = im.convert('RGB')\n",
    "        if filee.split('.')[1] not in extensions:\n",
    "            extensions.append(filee.split('.')[1])\n",
    "'''"
   ]
  },
  {
   "cell_type": "code",
   "execution_count": 11,
   "metadata": {
    "id": "BmToXl2ZED8K"
   },
   "outputs": [],
   "source": [
    "#Deleting corrupt files\n",
    "'''os.remove('/content/gdrive/MyDrive/FOOD_APP/dataset/biriyani/04d39a92fc.jpg')'''\n",
    "\n"
   ]
  },
  {
   "cell_type": "code",
   "execution_count": 1,
   "metadata": {
    "colab": {
     "base_uri": "https://localhost:8080/"
    },
    "id": "bokJJGWhEEW6",
    "outputId": "8aaccd2e-5af3-41ef-9743-9a9390555bc0"
   },
   "outputs": [
    {
     "name": "stdout",
     "output_type": "stream",
     "text": [
      "BathRoom   1691\n",
      "BedRoom   2584\n",
      "DiningRoom   2236\n",
      "Kitchen   2167\n",
      "LaundryRoom   2037\n",
      "LivingRoom   2529\n",
      "Outdoor   1958\n"
     ]
    }
   ],
   "source": [
    "# Count Files\n",
    "\n",
    "import os\n",
    "folder_path = r'newData\\rawData'\n",
    "for fldr in os.listdir(folder_path):\n",
    "    sub_folder_path = os.path.join(folder_path, fldr)\n",
    "    count=0\n",
    "    for filee in os.listdir(sub_folder_path):\n",
    "        count=count+1\n",
    "    print(fldr,\" \",count)\n",
    "        "
   ]
  },
  {
   "cell_type": "code",
   "execution_count": 2,
   "metadata": {
    "colab": {
     "base_uri": "https://localhost:8080/"
    },
    "id": "tJHP272dF7hM",
    "outputId": "8016d3f3-7661-43d9-e987-f780e6ee32a5"
   },
   "outputs": [],
   "source": [
    "#Spliting to Train Validate Test Folders\n",
    "import splitfolders\n",
    "splitfolders.ratio(r\"newData\\rawData\", output=r\"newData\\split_2\", seed=223, ratio=(0.65, 0.20,0.15)) "
   ]
  },
  {
   "cell_type": "code",
   "execution_count": 2,
   "metadata": {
    "id": "DtXI_0UwF7jo"
   },
   "outputs": [],
   "source": [
    "\n",
    "#paths\n",
    "import os\n",
    "train_dir = r'newdata\\split_2\\train'\n",
    "validation_dir = r'newdata\\split_2\\val'\n",
    "test_dir =r'newdata\\split_2\\test'"
   ]
  },
  {
   "cell_type": "code",
   "execution_count": 3,
   "metadata": {
    "colab": {
     "base_uri": "https://localhost:8080/"
    },
    "id": "VTPoR20CF7mH",
    "outputId": "2192af98-a893-46e8-e7c8-4654228b9293"
   },
   "outputs": [
    {
     "name": "stdout",
     "output_type": "stream",
     "text": [
      "BathRoom   1099\n",
      "BedRoom   1679\n",
      "DiningRoom   1453\n",
      "Kitchen   1408\n",
      "LaundryRoom   1324\n",
      "LivingRoom   1643\n",
      "Outdoor   1272\n"
     ]
    }
   ],
   "source": [
    "# Count Train Data Files\n",
    "folder_path = train_dir\n",
    "for fldr in os.listdir(folder_path):\n",
    "    sub_folder_path = os.path.join(folder_path, fldr)\n",
    "    count=0\n",
    "    for filee in os.listdir(sub_folder_path):\n",
    "        count=count+1\n",
    "    print(fldr,\" \",count)"
   ]
  },
  {
   "cell_type": "code",
   "execution_count": 5,
   "metadata": {},
   "outputs": [
    {
     "name": "stdout",
     "output_type": "stream",
     "text": [
      "BathRoom   254\n",
      "BedRoom   389\n",
      "DiningRoom   336\n",
      "Kitchen   326\n",
      "LaundryRoom   306\n",
      "LivingRoom   381\n",
      "Outdoor   295\n"
     ]
    }
   ],
   "source": [
    "# Count test Data Files\n",
    "folder_path = test_dir\n",
    "for fldr in os.listdir(folder_path):\n",
    "    sub_folder_path = os.path.join(folder_path, fldr)\n",
    "    count=0\n",
    "    for filee in os.listdir(sub_folder_path):\n",
    "        count=count+1\n",
    "    print(fldr,\" \",count)"
   ]
  },
  {
   "cell_type": "code",
   "execution_count": 6,
   "metadata": {},
   "outputs": [
    {
     "name": "stdout",
     "output_type": "stream",
     "text": [
      "BathRoom   338\n",
      "BedRoom   516\n",
      "DiningRoom   447\n",
      "Kitchen   433\n",
      "LaundryRoom   407\n",
      "LivingRoom   505\n",
      "Outdoor   391\n"
     ]
    }
   ],
   "source": [
    "# Count validation Data Files\n",
    "folder_path = validation_dir\n",
    "for fldr in os.listdir(folder_path):\n",
    "    sub_folder_path = os.path.join(folder_path, fldr)\n",
    "    count=0\n",
    "    for filee in os.listdir(sub_folder_path):\n",
    "        count=count+1\n",
    "    print(fldr,\" \",count)"
   ]
  },
  {
   "cell_type": "code",
   "execution_count": 25,
   "metadata": {},
   "outputs": [
    {
     "data": {
      "text/plain": [
       "'conda install -c conda-forge python-flatbuffers '"
      ]
     },
     "execution_count": 25,
     "metadata": {},
     "output_type": "execute_result"
    }
   ],
   "source": [
    "'''conda install -c conda-forge python-flatbuffers '''"
   ]
  },
  {
   "cell_type": "code",
   "execution_count": 1,
   "metadata": {},
   "outputs": [
    {
     "data": {
      "text/plain": [
       "'2.8.0-dev20211203'"
      ]
     },
     "execution_count": 1,
     "metadata": {},
     "output_type": "execute_result"
    }
   ],
   "source": [
    "'''import tensorflow as tf\n",
    "tf.__version__'''"
   ]
  },
  {
   "cell_type": "code",
   "execution_count": 4,
   "metadata": {
    "id": "hLrAkgRJF7on"
   },
   "outputs": [],
   "source": [
    "import os\n",
    "import numpy as np\n",
    "import pandas as pd\n",
    "%matplotlib inline\n",
    "import matplotlib.pyplot as plt\n",
    "import tensorflow as tf\n",
    "from tensorflow import keras"
   ]
  },
  {
   "cell_type": "code",
   "execution_count": 5,
   "metadata": {
    "id": "06e9aHx_EEi-"
   },
   "outputs": [],
   "source": [
    "from tensorflow.keras.preprocessing.image import ImageDataGenerator"
   ]
  },
  {
   "cell_type": "code",
   "execution_count": 6,
   "metadata": {
    "id": "xUoeqQfDDtrT"
   },
   "outputs": [],
   "source": [
    "# Generating batches of  images\n",
    "## Pixel scaling, duplication\n",
    "train_gen = ImageDataGenerator(rescale=1.0/255,\n",
    "                               rotation_range=30,\n",
    "                               width_shift_range=0.2,\n",
    "                               height_shift_range=0.2,\n",
    "                               \n",
    "                               zoom_range=0.2,\n",
    "                               horizontal_flip=True)\n",
    "test_gen = ImageDataGenerator(rescale=1.0/255)\n",
    "        "
   ]
  },
  {
   "cell_type": "code",
   "execution_count": 7,
   "metadata": {},
   "outputs": [],
   "source": [
    "input_size=(224,224)\n",
    "no_of_classes=7"
   ]
  },
  {
   "cell_type": "code",
   "execution_count": 8,
   "metadata": {
    "colab": {
     "base_uri": "https://localhost:8080/"
    },
    "id": "fOkAEpUGD765",
    "outputId": "5b01c41a-f3a3-4414-eeb7-6f904ad16f2e"
   },
   "outputs": [
    {
     "name": "stdout",
     "output_type": "stream",
     "text": [
      "Found 9878 images belonging to 7 classes.\n",
      "Found 3037 images belonging to 7 classes.\n"
     ]
    }
   ],
   "source": [
    "train_generator=train_gen.flow_from_directory(\n",
    "        train_dir,\n",
    "        target_size=input_size,\n",
    "        batch_size=30,\n",
    "        class_mode = 'categorical')\n",
    "\n",
    "validation_generator = test_gen.flow_from_directory(\n",
    "        validation_dir,\n",
    "        target_size=input_size,\n",
    "        batch_size=30,\n",
    "        class_mode = 'categorical')"
   ]
  },
  {
   "cell_type": "code",
   "execution_count": null,
   "metadata": {},
   "outputs": [],
   "source": []
  },
  {
   "cell_type": "code",
   "execution_count": null,
   "metadata": {},
   "outputs": [],
   "source": []
  },
  {
   "cell_type": "code",
   "execution_count": 9,
   "metadata": {},
   "outputs": [],
   "source": [
    "### CNN MobileNet layer download\n",
    "mobile=tf.keras.applications.mobilenet.MobileNet(weights='imagenet',\n",
    "                  include_top=False,\n",
    "                  input_shape=(224, 224, 3))\n",
    "#mobile.summary()\n"
   ]
  },
  {
   "cell_type": "code",
   "execution_count": 10,
   "metadata": {},
   "outputs": [],
   "source": [
    "for layers in mobile.layers[:-23]:\n",
    "    layers.trainable=False"
   ]
  },
  {
   "cell_type": "code",
   "execution_count": 11,
   "metadata": {},
   "outputs": [],
   "source": [
    "from tensorflow.keras import models\n",
    "from tensorflow.keras import layers\n",
    "\n",
    "model = models.Sequential()\n",
    "model.add(mobile)\n",
    "model.add(layers.Flatten())\n",
    "#model.add(layers.Dropout(0.5))\n",
    "model.add(layers.Dense(no_of_classes, activation='softmax'))"
   ]
  },
  {
   "cell_type": "code",
   "execution_count": 12,
   "metadata": {},
   "outputs": [
    {
     "name": "stdout",
     "output_type": "stream",
     "text": [
      "Model: \"sequential\"\n",
      "_________________________________________________________________\n",
      " Layer (type)                Output Shape              Param #   \n",
      "=================================================================\n",
      " mobilenet_1.00_224 (Functio  (None, 7, 7, 1024)       3228864   \n",
      " nal)                                                            \n",
      "                                                                 \n",
      " flatten (Flatten)           (None, 50176)             0         \n",
      "                                                                 \n",
      " dense (Dense)               (None, 7)                 351239    \n",
      "                                                                 \n",
      "=================================================================\n",
      "Total params: 3,580,103\n",
      "Trainable params: 2,477,063\n",
      "Non-trainable params: 1,103,040\n",
      "_________________________________________________________________\n"
     ]
    }
   ],
   "source": [
    "model.summary()"
   ]
  },
  {
   "cell_type": "code",
   "execution_count": null,
   "metadata": {},
   "outputs": [],
   "source": []
  },
  {
   "cell_type": "code",
   "execution_count": null,
   "metadata": {},
   "outputs": [],
   "source": []
  },
  {
   "cell_type": "code",
   "execution_count": 38,
   "metadata": {},
   "outputs": [],
   "source": []
  },
  {
   "cell_type": "code",
   "execution_count": 13,
   "metadata": {},
   "outputs": [],
   "source": [
    "from tensorflow.keras import optimizers\n",
    "model.compile(optimizer=optimizers.RMSprop(learning_rate=1e-5),loss='categorical_crossentropy',metrics=['acc'])"
   ]
  },
  {
   "cell_type": "code",
   "execution_count": null,
   "metadata": {},
   "outputs": [],
   "source": []
  },
  {
   "cell_type": "code",
   "execution_count": 14,
   "metadata": {
    "id": "bXE-RW_uJKEy"
   },
   "outputs": [],
   "source": [
    "from tensorflow.keras.callbacks import EarlyStopping,ModelCheckpoint\n",
    "\n",
    "early_stop = EarlyStopping(monitor='val_loss',mode = 'min',verbose=1,patience=4)\n",
    "checkpoint_cb = ModelCheckpoint( r\"model.h5\\savedModel.h5\",save_best_only=True)\n",
    "#checkpoint_cb = ModelCheckpoint( r\"model.h5\\CNN_Project_Model-{epoch:02d}.h5\",save_best_only=True)"
   ]
  },
  {
   "cell_type": "code",
   "execution_count": 15,
   "metadata": {
    "id": "mHijwGXELjKr"
   },
   "outputs": [
    {
     "name": "stdout",
     "output_type": "stream",
     "text": [
      "Epoch 1/35\n",
      "330/330 [==============================] - 561s 2s/step - loss: 2.1487 - acc: 0.3763 - val_loss: 1.3656 - val_acc: 0.5822\n",
      "Epoch 2/35\n",
      "330/330 [==============================] - 564s 2s/step - loss: 1.4382 - acc: 0.5607 - val_loss: 1.0722 - val_acc: 0.6770\n",
      "Epoch 3/35\n",
      "330/330 [==============================] - 588s 2s/step - loss: 1.2702 - acc: 0.6117 - val_loss: 0.9430 - val_acc: 0.7221\n",
      "Epoch 4/35\n",
      "330/330 [==============================] - 587s 2s/step - loss: 1.1183 - acc: 0.6649 - val_loss: 0.8823 - val_acc: 0.7399\n",
      "Epoch 5/35\n",
      "330/330 [==============================] - 533s 2s/step - loss: 1.0518 - acc: 0.6791 - val_loss: 0.8219 - val_acc: 0.7642\n",
      "Epoch 6/35\n",
      "330/330 [==============================] - 510s 2s/step - loss: 1.0040 - acc: 0.7007 - val_loss: 0.8077 - val_acc: 0.7702\n",
      "Epoch 7/35\n",
      "330/330 [==============================] - 509s 2s/step - loss: 0.9672 - acc: 0.7079 - val_loss: 0.7710 - val_acc: 0.7824\n",
      "Epoch 8/35\n",
      "330/330 [==============================] - 509s 2s/step - loss: 0.9213 - acc: 0.7191 - val_loss: 0.7572 - val_acc: 0.7912\n",
      "Epoch 9/35\n",
      "330/330 [==============================] - 510s 2s/step - loss: 0.8804 - acc: 0.7365 - val_loss: 0.7426 - val_acc: 0.7929\n",
      "Epoch 10/35\n",
      "330/330 [==============================] - 510s 2s/step - loss: 0.8255 - acc: 0.7445 - val_loss: 0.7420 - val_acc: 0.7965\n",
      "Epoch 11/35\n",
      "330/330 [==============================] - 531s 2s/step - loss: 0.8050 - acc: 0.7522 - val_loss: 0.7396 - val_acc: 0.7968\n",
      "Epoch 12/35\n",
      "330/330 [==============================] - 539s 2s/step - loss: 0.7900 - acc: 0.7546 - val_loss: 0.7142 - val_acc: 0.8087\n",
      "Epoch 13/35\n",
      "330/330 [==============================] - 536s 2s/step - loss: 0.7570 - acc: 0.7628 - val_loss: 0.7055 - val_acc: 0.8084\n",
      "Epoch 14/35\n",
      "330/330 [==============================] - 520s 2s/step - loss: 0.7572 - acc: 0.7677 - val_loss: 0.6887 - val_acc: 0.8113\n",
      "Epoch 15/35\n",
      "330/330 [==============================] - 510s 2s/step - loss: 0.7061 - acc: 0.7773 - val_loss: 0.6847 - val_acc: 0.8153\n",
      "Epoch 16/35\n",
      "330/330 [==============================] - 510s 2s/step - loss: 0.7329 - acc: 0.7717 - val_loss: 0.6753 - val_acc: 0.8215\n",
      "Epoch 17/35\n",
      "330/330 [==============================] - 510s 2s/step - loss: 0.6814 - acc: 0.7867 - val_loss: 0.6907 - val_acc: 0.8159\n",
      "Epoch 18/35\n",
      "330/330 [==============================] - 512s 2s/step - loss: 0.6567 - acc: 0.7955 - val_loss: 0.6577 - val_acc: 0.8205\n",
      "Epoch 19/35\n",
      "330/330 [==============================] - 509s 2s/step - loss: 0.6619 - acc: 0.7902 - val_loss: 0.6553 - val_acc: 0.8225\n",
      "Epoch 20/35\n",
      "330/330 [==============================] - 510s 2s/step - loss: 0.6472 - acc: 0.8004 - val_loss: 0.6476 - val_acc: 0.8268\n",
      "Epoch 21/35\n",
      "330/330 [==============================] - 509s 2s/step - loss: 0.6464 - acc: 0.7983 - val_loss: 0.6516 - val_acc: 0.8294\n",
      "Epoch 22/35\n",
      "330/330 [==============================] - 510s 2s/step - loss: 0.6148 - acc: 0.8046 - val_loss: 0.6426 - val_acc: 0.8255\n",
      "Epoch 23/35\n",
      "330/330 [==============================] - 509s 2s/step - loss: 0.5968 - acc: 0.8109 - val_loss: 0.6499 - val_acc: 0.8278\n",
      "Epoch 24/35\n",
      "330/330 [==============================] - 509s 2s/step - loss: 0.5903 - acc: 0.8081 - val_loss: 0.6524 - val_acc: 0.8275\n",
      "Epoch 25/35\n",
      "330/330 [==============================] - 511s 2s/step - loss: 0.5812 - acc: 0.8167 - val_loss: 0.6388 - val_acc: 0.8294\n",
      "Epoch 26/35\n",
      "330/330 [==============================] - 510s 2s/step - loss: 0.5617 - acc: 0.8189 - val_loss: 0.6323 - val_acc: 0.8347\n",
      "Epoch 27/35\n",
      "330/330 [==============================] - 509s 2s/step - loss: 0.5556 - acc: 0.8188 - val_loss: 0.6415 - val_acc: 0.8327\n",
      "Epoch 28/35\n",
      "330/330 [==============================] - 509s 2s/step - loss: 0.5377 - acc: 0.8232 - val_loss: 0.6259 - val_acc: 0.8347\n",
      "Epoch 29/35\n",
      "330/330 [==============================] - 509s 2s/step - loss: 0.5320 - acc: 0.8327 - val_loss: 0.6143 - val_acc: 0.8364\n",
      "Epoch 30/35\n",
      "330/330 [==============================] - 510s 2s/step - loss: 0.5127 - acc: 0.8311 - val_loss: 0.6310 - val_acc: 0.8340\n",
      "Epoch 31/35\n",
      "330/330 [==============================] - 509s 2s/step - loss: 0.5077 - acc: 0.8334 - val_loss: 0.6119 - val_acc: 0.8403\n",
      "Epoch 32/35\n",
      "330/330 [==============================] - 513s 2s/step - loss: 0.5131 - acc: 0.8334 - val_loss: 0.6077 - val_acc: 0.8396\n",
      "Epoch 33/35\n",
      "330/330 [==============================] - 513s 2s/step - loss: 0.5010 - acc: 0.8371 - val_loss: 0.6165 - val_acc: 0.8426\n",
      "Epoch 34/35\n",
      "330/330 [==============================] - 511s 2s/step - loss: 0.4751 - acc: 0.8468 - val_loss: 0.6106 - val_acc: 0.8380\n",
      "Epoch 35/35\n",
      "330/330 [==============================] - 511s 2s/step - loss: 0.4931 - acc: 0.8431 - val_loss: 0.6229 - val_acc: 0.8387\n"
     ]
    }
   ],
   "source": [
    "\n",
    "\n",
    "history = model.fit(\n",
    "      train_generator,\n",
    "     \n",
    "      epochs=40,\n",
    "      validation_data=validation_generator,\n",
    "      \n",
    "      callbacks=[checkpoint_cb,early_stop]) "
   ]
  },
  {
   "cell_type": "code",
   "execution_count": 16,
   "metadata": {
    "colab": {
     "base_uri": "https://localhost:8080/",
     "height": 532
    },
    "id": "IT-fIpNgLql4",
    "outputId": "9766504f-acb4-4d22-ed9e-c39e63f15e7b"
   },
   "outputs": [
    {
     "data": {
      "image/png": "[encoded data removed]",
      "text/plain": [
       "<Figure size 432x288 with 1 Axes>"
      ]
     },
     "metadata": {
      "needs_background": "light"
     },
     "output_type": "display_data"
    },
    {
     "data": {
      "image/png": "[encoded data removed]",
      "text/plain": [
       "<Figure size 432x288 with 1 Axes>"
      ]
     },
     "metadata": {
      "needs_background": "light"
     },
     "output_type": "display_data"
    },
    {
     "data": {
      "text/plain": [
       "<Figure size 432x288 with 0 Axes>"
      ]
     },
     "metadata": {},
     "output_type": "display_data"
    }
   ],
   "source": [
    "plt.plot(history.history['loss'], label='train loss')\n",
    "plt.plot(history.history['val_loss'], label='val loss')\n",
    "plt.legend()\n",
    "plt.show()\n",
    "plt.savefig('LossVal_loss')\n",
    "\n",
    "# plot the accuracy\n",
    "plt.plot(history.history['acc'], label='train acc')\n",
    "plt.plot(history.history['val_acc'], label='val acc')\n",
    "plt.legend()\n",
    "plt.show()\n",
    "plt.savefig('AccVal_acc')"
   ]
  },
  {
   "cell_type": "code",
   "execution_count": 17,
   "metadata": {},
   "outputs": [
    {
     "name": "stdout",
     "output_type": "stream",
     "text": [
      "Found 2287 images belonging to 7 classes.\n"
     ]
    }
   ],
   "source": [
    "test_generator = test_gen.flow_from_directory(\n",
    "        test_dir,\n",
    "        target_size=(224, 224),\n",
    "        batch_size=30,\n",
    "        class_mode='categorical')"
   ]
  },
  {
   "cell_type": "code",
   "execution_count": 18,
   "metadata": {},
   "outputs": [
    {
     "name": "stdout",
     "output_type": "stream",
     "text": [
      "77/77 [==============================] - 59s 757ms/step - loss: 0.4027 - acc: 0.8636\n",
      "[0.4026927351951599, 0.8635767102241516]\n",
      "Test_Loss               Test_accuracy\n"
     ]
    }
   ],
   "source": [
    "from tensorflow.keras.models import load_model\n",
    "model=load_model(r'model.h5\\final_mobileNet.h5')\n",
    "print(model.evaluate(test_generator))\n",
    "print(\"Test_Loss               Test_accuracy\")\n",
    "#[Test_Loss Test_accuracy]"
   ]
  },
  {
   "cell_type": "code",
   "execution_count": 19,
   "metadata": {},
   "outputs": [
    {
     "name": "stdout",
     "output_type": "stream",
     "text": [
      "77/77 [==============================] - 58s 744ms/step - loss: 0.6081 - acc: 0.8400\n",
      "[0.6081147193908691, 0.8399650454521179]\n",
      "Test_Loss               Test_accuracy\n"
     ]
    }
   ],
   "source": [
    "from tensorflow.keras.models import load_model\n",
    "model=load_model(r'model.h5\\savedModel.h5')\n",
    "#[Test_Loss Test_accuracy]\n",
    "print(model.evaluate(test_generator))\n",
    "print(\"Test_Loss               Test_accuracy\")"
   ]
  },
  {
   "cell_type": "code",
   "execution_count": null,
   "metadata": {},
   "outputs": [],
   "source": []
  },
  {
   "cell_type": "code",
   "execution_count": 20,
   "metadata": {},
   "outputs": [
    {
     "data": {
      "text/plain": [
       "['BathRoom',\n",
       " 'BedRoom',\n",
       " 'DiningRoom',\n",
       " 'Kitchen',\n",
       " 'LaundryRoom',\n",
       " 'LivingRoom',\n",
       " 'Outdoor']"
      ]
     },
     "execution_count": 20,
     "metadata": {},
     "output_type": "execute_result"
    }
   ],
   "source": [
    "os.listdir(r'newData\\split_2\\test')"
   ]
  },
  {
   "cell_type": "markdown",
   "metadata": {
    "id": "9GC27JN1Xu_x"
   },
   "source": [
    "#Classification_report"
   ]
  },
  {
   "cell_type": "code",
   "execution_count": 21,
   "metadata": {
    "colab": {
     "base_uri": "https://localhost:8080/"
    },
    "id": "W92Ro5QqXt99",
    "outputId": "b2a712ec-be30-42b0-aabb-04b10d92db46"
   },
   "outputs": [],
   "source": [
    "%%capture --no-display\n",
    "import os\n",
    "import cv2\n",
    "from tensorflow.keras.preprocessing import image\n",
    "#categories = os.listdir(test_dir)\n",
    "categories=['BathRoom',\n",
    " 'BedRoom',\n",
    " 'DiningRoom',\n",
    " 'Kitchen',\n",
    " 'LaundryRoom',\n",
    " 'LivingRoom',\n",
    " 'Outdoor']\n",
    "img_size = 224\n",
    "def get_data(data_dir):\n",
    "    data = []\n",
    "    for category in categories:\n",
    "        path = os.path.join(data_dir, category)\n",
    "        class_num = categories.index(category)\n",
    "        for img in os.listdir(path):\n",
    "           \n",
    "                img_arr = image.load_img(os.path.join(path,img),target_size=(224,224))\n",
    "                x=image.img_to_array(img_arr)\n",
    "                data.append([x, class_num])\n",
    "           \n",
    "    return np.array(data)        \n",
    "    \n",
    "    \n",
    "\n",
    "val = get_data(test_dir)\n"
   ]
  },
  {
   "cell_type": "code",
   "execution_count": 22,
   "metadata": {
    "id": "KXqTt-bDXuBI"
   },
   "outputs": [],
   "source": [
    "x_val=[]\n",
    "y_val=[]\n",
    "for feature, label in val:\n",
    "    x_val.append(feature)\n",
    "    y_val.append(label)"
   ]
  },
  {
   "cell_type": "code",
   "execution_count": 23,
   "metadata": {
    "id": "VmOAE4DnX2Tn"
   },
   "outputs": [],
   "source": [
    "x_val = np.array(x_val) / 255\n",
    "x_val.reshape(-1,img_size,img_size,1)\n",
    "y_val = np.array(y_val)\n",
    "predict_x=model.predict(x_val) \n",
    "prediction=np.argmax(predict_x,axis=1)\n",
    "\n",
    "prediction = prediction.reshape(1,-1)[0]"
   ]
  },
  {
   "cell_type": "code",
   "execution_count": 24,
   "metadata": {
    "colab": {
     "base_uri": "https://localhost:8080/"
    },
    "id": "l1qv0AwwX2V-",
    "outputId": "9e52f82c-3e1e-429a-ca01-b77d46171258"
   },
   "outputs": [
    {
     "name": "stdout",
     "output_type": "stream",
     "text": [
      "              precision    recall  f1-score   support\n",
      "\n",
      "    BathRoom       0.87      0.88      0.88       254\n",
      "     BedRoom       0.89      0.85      0.87       389\n",
      "  DiningRoom       0.81      0.85      0.83       336\n",
      "     Kitchen       0.83      0.74      0.78       326\n",
      " LaundryRoom       0.82      0.89      0.85       306\n",
      "  LivingRoom       0.80      0.77      0.78       381\n",
      "     Outdoor       0.88      0.93      0.90       295\n",
      "\n",
      "    accuracy                           0.84      2287\n",
      "   macro avg       0.84      0.84      0.84      2287\n",
      "weighted avg       0.84      0.84      0.84      2287\n",
      "\n"
     ]
    }
   ],
   "source": [
    "from sklearn.metrics import classification_report,confusion_matrix\n",
    "print(classification_report(y_val,prediction,target_names=categories))"
   ]
  },
  {
   "cell_type": "markdown",
   "metadata": {},
   "source": [
    "## Convert model from .h5 to .tflite"
   ]
  },
  {
   "cell_type": "code",
   "execution_count": null,
   "metadata": {},
   "outputs": [],
   "source": []
  },
  {
   "cell_type": "code",
   "execution_count": 25,
   "metadata": {
    "colab": {
     "base_uri": "https://localhost:8080/"
    },
    "id": "xrgYVLrDX2bd",
    "outputId": "77f4dc22-0d5d-47eb-e85b-ffbcb70c186f"
   },
   "outputs": [
    {
     "name": "stdout",
     "output_type": "stream",
     "text": [
      "INFO:tensorflow:Assets written to: C:\\Users\\HP\\AppData\\Local\\Temp\\tmpjgfu9zln\\assets\n"
     ]
    },
    {
     "data": {
      "text/plain": [
       "14209736"
      ]
     },
     "execution_count": 25,
     "metadata": {},
     "output_type": "execute_result"
    }
   ],
   "source": [
    "%%capture --no-display\n",
    "import tensorflow as tf\n",
    "\n",
    "model = tf.keras.models.load_model(r'model.h5\\savedModel.h5')\n",
    "converter = tf.lite.TFLiteConverter.from_keras_model(model)\n",
    "tflite_model = converter.convert()\n",
    "open(r\"model.h5\\saved_tflite.tflite\", \"wb\").write(tflite_model)"
   ]
  },
  {
   "cell_type": "code",
   "execution_count": null,
   "metadata": {
    "id": "cYj9gtUFX2f2"
   },
   "outputs": [],
   "source": [
    "'''from tensorflow.keras import backend as K \n",
    "\n",
    "K.clear_session()\n",
    "del model'''"
   ]
  },
  {
   "cell_type": "code",
   "execution_count": null,
   "metadata": {},
   "outputs": [],
   "source": []
  }
 ],
 "metadata": {
  "kernelspec": {
   "display_name": "Python 3 (ipykernel)",
   "language": "python",
   "name": "python3"
  },
  "language_info": {
   "codemirror_mode": {
    "name": "ipython",
    "version": 3
   },
   "file_extension": ".py",
   "mimetype": "text/x-python",
   "name": "python",
   "nbconvert_exporter": "python",
   "pygments_lexer": "ipython3",
   "version": "3.7.11"
  }
 },
 "nbformat": 4,
 "nbformat_minor": 4
}
